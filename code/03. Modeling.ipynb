{
 "cells": [
  {
   "cell_type": "code",
   "execution_count": 73,
   "id": "48238b53",
   "metadata": {},
   "outputs": [],
   "source": [
    "import pandas as pd\n",
    "import numpy as np\n",
    "import matplotlib.pyplot as plt\n",
    "import seaborn as sns\n",
    "from scipy.stats import mannwhitneyu, shapiro\n",
    "from sklearn.linear_model import LogisticRegression\n",
    "from sklearn.tree import DecisionTreeClassifier\n",
    "from sklearn.ensemble import RandomForestClassifier\n",
    "from sklearn.linear_model import Lasso, Ridge\n",
    "from sklearn.preprocessing import LabelEncoder\n",
    "from sklearn.model_selection import StratifiedKFold, KFold, train_test_split\n",
    "from sklearn.metrics import confusion_matrix, classification_report, recall_score, f1_score\n",
    "from imblearn.over_sampling import RandomOverSampler"
   ]
  },
  {
   "cell_type": "markdown",
   "id": "c0f0bf7c-0dc3-4ba7-8778-b42dd32d512f",
   "metadata": {},
   "source": [
    "# Modeling"
   ]
  },
  {
   "cell_type": "code",
   "execution_count": 74,
   "id": "99c7e43d-7edd-497a-8a22-5440706161d2",
   "metadata": {},
   "outputs": [
    {
     "data": {
      "text/html": [
       "<div>\n",
       "<style scoped>\n",
       "    .dataframe tbody tr th:only-of-type {\n",
       "        vertical-align: middle;\n",
       "    }\n",
       "\n",
       "    .dataframe tbody tr th {\n",
       "        vertical-align: top;\n",
       "    }\n",
       "\n",
       "    .dataframe thead th {\n",
       "        text-align: right;\n",
       "    }\n",
       "</style>\n",
       "<table border=\"1\" class=\"dataframe\">\n",
       "  <thead>\n",
       "    <tr style=\"text-align: right;\">\n",
       "      <th></th>\n",
       "      <th>Acetanaerobacterium</th>\n",
       "      <th>Acidaminococcus</th>\n",
       "      <th>Actinobacillus</th>\n",
       "      <th>Actinomyces</th>\n",
       "      <th>Adlercreutzia</th>\n",
       "      <th>Aerococcus</th>\n",
       "      <th>Agathobacter</th>\n",
       "      <th>Aggregatibacter</th>\n",
       "      <th>Akkermansia</th>\n",
       "      <th>Alistipes</th>\n",
       "      <th>...</th>\n",
       "      <th>[Eubacterium]_ruminantium_group</th>\n",
       "      <th>[Eubacterium]_siraeum_group</th>\n",
       "      <th>[Eubacterium]_ventriosum_group</th>\n",
       "      <th>[Eubacterium]_xylanophilum_group</th>\n",
       "      <th>[Ruminococcus]_gauvreauii_group</th>\n",
       "      <th>[Ruminococcus]_gnavus_group</th>\n",
       "      <th>[Ruminococcus]_torques_group</th>\n",
       "      <th>uncultured</th>\n",
       "      <th>vadinBE97</th>\n",
       "      <th>class</th>\n",
       "    </tr>\n",
       "  </thead>\n",
       "  <tbody>\n",
       "    <tr>\n",
       "      <th>100033.0</th>\n",
       "      <td>0.000000</td>\n",
       "      <td>0.000000</td>\n",
       "      <td>0.0</td>\n",
       "      <td>0.0</td>\n",
       "      <td>0.000077</td>\n",
       "      <td>0.0</td>\n",
       "      <td>0.003954</td>\n",
       "      <td>0.000000</td>\n",
       "      <td>0.000000</td>\n",
       "      <td>0.093576</td>\n",
       "      <td>...</td>\n",
       "      <td>0.000000</td>\n",
       "      <td>0.000000</td>\n",
       "      <td>0.001854</td>\n",
       "      <td>0.001421</td>\n",
       "      <td>0.00000</td>\n",
       "      <td>0.000000</td>\n",
       "      <td>0.000711</td>\n",
       "      <td>0.004371</td>\n",
       "      <td>0.000000</td>\n",
       "      <td>0</td>\n",
       "    </tr>\n",
       "    <tr>\n",
       "      <th>100043.0</th>\n",
       "      <td>0.000000</td>\n",
       "      <td>0.001162</td>\n",
       "      <td>0.0</td>\n",
       "      <td>0.0</td>\n",
       "      <td>0.000039</td>\n",
       "      <td>0.0</td>\n",
       "      <td>0.007139</td>\n",
       "      <td>0.000000</td>\n",
       "      <td>0.005716</td>\n",
       "      <td>0.006747</td>\n",
       "      <td>...</td>\n",
       "      <td>0.001475</td>\n",
       "      <td>0.000000</td>\n",
       "      <td>0.004868</td>\n",
       "      <td>0.000000</td>\n",
       "      <td>0.00047</td>\n",
       "      <td>0.000261</td>\n",
       "      <td>0.000131</td>\n",
       "      <td>0.000757</td>\n",
       "      <td>0.000052</td>\n",
       "      <td>0</td>\n",
       "    </tr>\n",
       "    <tr>\n",
       "      <th>100052.0</th>\n",
       "      <td>0.000000</td>\n",
       "      <td>0.000000</td>\n",
       "      <td>0.0</td>\n",
       "      <td>0.0</td>\n",
       "      <td>0.001761</td>\n",
       "      <td>0.0</td>\n",
       "      <td>0.000000</td>\n",
       "      <td>0.000000</td>\n",
       "      <td>0.114730</td>\n",
       "      <td>0.004542</td>\n",
       "      <td>...</td>\n",
       "      <td>0.000000</td>\n",
       "      <td>0.001267</td>\n",
       "      <td>0.000000</td>\n",
       "      <td>0.000000</td>\n",
       "      <td>0.00411</td>\n",
       "      <td>0.000649</td>\n",
       "      <td>0.000958</td>\n",
       "      <td>0.031548</td>\n",
       "      <td>0.000000</td>\n",
       "      <td>0</td>\n",
       "    </tr>\n",
       "    <tr>\n",
       "      <th>100058.0</th>\n",
       "      <td>0.000000</td>\n",
       "      <td>0.000000</td>\n",
       "      <td>0.0</td>\n",
       "      <td>0.0</td>\n",
       "      <td>0.000000</td>\n",
       "      <td>0.0</td>\n",
       "      <td>0.018173</td>\n",
       "      <td>0.000000</td>\n",
       "      <td>0.008553</td>\n",
       "      <td>0.023701</td>\n",
       "      <td>...</td>\n",
       "      <td>0.000000</td>\n",
       "      <td>0.000000</td>\n",
       "      <td>0.002789</td>\n",
       "      <td>0.000000</td>\n",
       "      <td>0.00000</td>\n",
       "      <td>0.004921</td>\n",
       "      <td>0.005640</td>\n",
       "      <td>0.009260</td>\n",
       "      <td>0.000000</td>\n",
       "      <td>0</td>\n",
       "    </tr>\n",
       "    <tr>\n",
       "      <th>100067.0</th>\n",
       "      <td>0.000587</td>\n",
       "      <td>0.000000</td>\n",
       "      <td>0.0</td>\n",
       "      <td>0.0</td>\n",
       "      <td>0.000031</td>\n",
       "      <td>0.0</td>\n",
       "      <td>0.001421</td>\n",
       "      <td>0.000000</td>\n",
       "      <td>0.110267</td>\n",
       "      <td>0.006161</td>\n",
       "      <td>...</td>\n",
       "      <td>0.000000</td>\n",
       "      <td>0.000000</td>\n",
       "      <td>0.002347</td>\n",
       "      <td>0.000000</td>\n",
       "      <td>0.00000</td>\n",
       "      <td>0.000479</td>\n",
       "      <td>0.002393</td>\n",
       "      <td>0.000108</td>\n",
       "      <td>0.000000</td>\n",
       "      <td>0</td>\n",
       "    </tr>\n",
       "    <tr>\n",
       "      <th>...</th>\n",
       "      <td>...</td>\n",
       "      <td>...</td>\n",
       "      <td>...</td>\n",
       "      <td>...</td>\n",
       "      <td>...</td>\n",
       "      <td>...</td>\n",
       "      <td>...</td>\n",
       "      <td>...</td>\n",
       "      <td>...</td>\n",
       "      <td>...</td>\n",
       "      <td>...</td>\n",
       "      <td>...</td>\n",
       "      <td>...</td>\n",
       "      <td>...</td>\n",
       "      <td>...</td>\n",
       "      <td>...</td>\n",
       "      <td>...</td>\n",
       "      <td>...</td>\n",
       "      <td>...</td>\n",
       "      <td>...</td>\n",
       "      <td>...</td>\n",
       "    </tr>\n",
       "    <tr>\n",
       "      <th>92044.0</th>\n",
       "      <td>0.000389</td>\n",
       "      <td>0.000000</td>\n",
       "      <td>0.0</td>\n",
       "      <td>0.0</td>\n",
       "      <td>0.000000</td>\n",
       "      <td>0.0</td>\n",
       "      <td>0.000000</td>\n",
       "      <td>0.000000</td>\n",
       "      <td>0.109601</td>\n",
       "      <td>0.001455</td>\n",
       "      <td>...</td>\n",
       "      <td>0.000000</td>\n",
       "      <td>0.000000</td>\n",
       "      <td>0.006758</td>\n",
       "      <td>0.000375</td>\n",
       "      <td>0.00000</td>\n",
       "      <td>0.002680</td>\n",
       "      <td>0.000865</td>\n",
       "      <td>0.000893</td>\n",
       "      <td>0.000000</td>\n",
       "      <td>0</td>\n",
       "    </tr>\n",
       "    <tr>\n",
       "      <th>92056.0</th>\n",
       "      <td>0.000000</td>\n",
       "      <td>0.000000</td>\n",
       "      <td>0.0</td>\n",
       "      <td>0.0</td>\n",
       "      <td>0.000000</td>\n",
       "      <td>0.0</td>\n",
       "      <td>0.026187</td>\n",
       "      <td>0.000000</td>\n",
       "      <td>0.000039</td>\n",
       "      <td>0.068901</td>\n",
       "      <td>...</td>\n",
       "      <td>0.000000</td>\n",
       "      <td>0.000000</td>\n",
       "      <td>0.003595</td>\n",
       "      <td>0.000000</td>\n",
       "      <td>0.00000</td>\n",
       "      <td>0.002013</td>\n",
       "      <td>0.007308</td>\n",
       "      <td>0.005203</td>\n",
       "      <td>0.000000</td>\n",
       "      <td>0</td>\n",
       "    </tr>\n",
       "    <tr>\n",
       "      <th>99011.0</th>\n",
       "      <td>0.000000</td>\n",
       "      <td>0.000000</td>\n",
       "      <td>0.0</td>\n",
       "      <td>0.0</td>\n",
       "      <td>0.000114</td>\n",
       "      <td>0.0</td>\n",
       "      <td>0.000000</td>\n",
       "      <td>0.000034</td>\n",
       "      <td>0.006894</td>\n",
       "      <td>0.016476</td>\n",
       "      <td>...</td>\n",
       "      <td>0.000000</td>\n",
       "      <td>0.000000</td>\n",
       "      <td>0.000000</td>\n",
       "      <td>0.000000</td>\n",
       "      <td>0.00000</td>\n",
       "      <td>0.037959</td>\n",
       "      <td>0.001120</td>\n",
       "      <td>0.056813</td>\n",
       "      <td>0.000000</td>\n",
       "      <td>0</td>\n",
       "    </tr>\n",
       "    <tr>\n",
       "      <th>99061.0</th>\n",
       "      <td>0.000000</td>\n",
       "      <td>0.000239</td>\n",
       "      <td>0.0</td>\n",
       "      <td>0.0</td>\n",
       "      <td>0.000000</td>\n",
       "      <td>0.0</td>\n",
       "      <td>0.005418</td>\n",
       "      <td>0.000000</td>\n",
       "      <td>0.018886</td>\n",
       "      <td>0.039008</td>\n",
       "      <td>...</td>\n",
       "      <td>0.000124</td>\n",
       "      <td>0.000479</td>\n",
       "      <td>0.001637</td>\n",
       "      <td>0.001761</td>\n",
       "      <td>0.00000</td>\n",
       "      <td>0.000325</td>\n",
       "      <td>0.005552</td>\n",
       "      <td>0.025960</td>\n",
       "      <td>0.000000</td>\n",
       "      <td>0</td>\n",
       "    </tr>\n",
       "    <tr>\n",
       "      <th>99090.0</th>\n",
       "      <td>0.000000</td>\n",
       "      <td>0.000000</td>\n",
       "      <td>0.0</td>\n",
       "      <td>0.0</td>\n",
       "      <td>0.000207</td>\n",
       "      <td>0.0</td>\n",
       "      <td>0.014265</td>\n",
       "      <td>0.000000</td>\n",
       "      <td>0.001549</td>\n",
       "      <td>0.002750</td>\n",
       "      <td>...</td>\n",
       "      <td>0.000090</td>\n",
       "      <td>0.000633</td>\n",
       "      <td>0.000594</td>\n",
       "      <td>0.000116</td>\n",
       "      <td>0.00000</td>\n",
       "      <td>0.000000</td>\n",
       "      <td>0.003666</td>\n",
       "      <td>0.009308</td>\n",
       "      <td>0.000000</td>\n",
       "      <td>0</td>\n",
       "    </tr>\n",
       "  </tbody>\n",
       "</table>\n",
       "<p>76 rows × 270 columns</p>\n",
       "</div>"
      ],
      "text/plain": [
       "          Acetanaerobacterium  Acidaminococcus  Actinobacillus  Actinomyces  \\\n",
       "100033.0             0.000000         0.000000             0.0          0.0   \n",
       "100043.0             0.000000         0.001162             0.0          0.0   \n",
       "100052.0             0.000000         0.000000             0.0          0.0   \n",
       "100058.0             0.000000         0.000000             0.0          0.0   \n",
       "100067.0             0.000587         0.000000             0.0          0.0   \n",
       "...                       ...              ...             ...          ...   \n",
       "92044.0              0.000389         0.000000             0.0          0.0   \n",
       "92056.0              0.000000         0.000000             0.0          0.0   \n",
       "99011.0              0.000000         0.000000             0.0          0.0   \n",
       "99061.0              0.000000         0.000239             0.0          0.0   \n",
       "99090.0              0.000000         0.000000             0.0          0.0   \n",
       "\n",
       "          Adlercreutzia  Aerococcus  Agathobacter  Aggregatibacter  \\\n",
       "100033.0       0.000077         0.0      0.003954         0.000000   \n",
       "100043.0       0.000039         0.0      0.007139         0.000000   \n",
       "100052.0       0.001761         0.0      0.000000         0.000000   \n",
       "100058.0       0.000000         0.0      0.018173         0.000000   \n",
       "100067.0       0.000031         0.0      0.001421         0.000000   \n",
       "...                 ...         ...           ...              ...   \n",
       "92044.0        0.000000         0.0      0.000000         0.000000   \n",
       "92056.0        0.000000         0.0      0.026187         0.000000   \n",
       "99011.0        0.000114         0.0      0.000000         0.000034   \n",
       "99061.0        0.000000         0.0      0.005418         0.000000   \n",
       "99090.0        0.000207         0.0      0.014265         0.000000   \n",
       "\n",
       "          Akkermansia  Alistipes  ...  [Eubacterium]_ruminantium_group  \\\n",
       "100033.0     0.000000   0.093576  ...                         0.000000   \n",
       "100043.0     0.005716   0.006747  ...                         0.001475   \n",
       "100052.0     0.114730   0.004542  ...                         0.000000   \n",
       "100058.0     0.008553   0.023701  ...                         0.000000   \n",
       "100067.0     0.110267   0.006161  ...                         0.000000   \n",
       "...               ...        ...  ...                              ...   \n",
       "92044.0      0.109601   0.001455  ...                         0.000000   \n",
       "92056.0      0.000039   0.068901  ...                         0.000000   \n",
       "99011.0      0.006894   0.016476  ...                         0.000000   \n",
       "99061.0      0.018886   0.039008  ...                         0.000124   \n",
       "99090.0      0.001549   0.002750  ...                         0.000090   \n",
       "\n",
       "          [Eubacterium]_siraeum_group  [Eubacterium]_ventriosum_group  \\\n",
       "100033.0                     0.000000                        0.001854   \n",
       "100043.0                     0.000000                        0.004868   \n",
       "100052.0                     0.001267                        0.000000   \n",
       "100058.0                     0.000000                        0.002789   \n",
       "100067.0                     0.000000                        0.002347   \n",
       "...                               ...                             ...   \n",
       "92044.0                      0.000000                        0.006758   \n",
       "92056.0                      0.000000                        0.003595   \n",
       "99011.0                      0.000000                        0.000000   \n",
       "99061.0                      0.000479                        0.001637   \n",
       "99090.0                      0.000633                        0.000594   \n",
       "\n",
       "          [Eubacterium]_xylanophilum_group  [Ruminococcus]_gauvreauii_group  \\\n",
       "100033.0                          0.001421                          0.00000   \n",
       "100043.0                          0.000000                          0.00047   \n",
       "100052.0                          0.000000                          0.00411   \n",
       "100058.0                          0.000000                          0.00000   \n",
       "100067.0                          0.000000                          0.00000   \n",
       "...                                    ...                              ...   \n",
       "92044.0                           0.000375                          0.00000   \n",
       "92056.0                           0.000000                          0.00000   \n",
       "99011.0                           0.000000                          0.00000   \n",
       "99061.0                           0.001761                          0.00000   \n",
       "99090.0                           0.000116                          0.00000   \n",
       "\n",
       "          [Ruminococcus]_gnavus_group  [Ruminococcus]_torques_group  \\\n",
       "100033.0                     0.000000                      0.000711   \n",
       "100043.0                     0.000261                      0.000131   \n",
       "100052.0                     0.000649                      0.000958   \n",
       "100058.0                     0.004921                      0.005640   \n",
       "100067.0                     0.000479                      0.002393   \n",
       "...                               ...                           ...   \n",
       "92044.0                      0.002680                      0.000865   \n",
       "92056.0                      0.002013                      0.007308   \n",
       "99011.0                      0.037959                      0.001120   \n",
       "99061.0                      0.000325                      0.005552   \n",
       "99090.0                      0.000000                      0.003666   \n",
       "\n",
       "          uncultured  vadinBE97  class  \n",
       "100033.0    0.004371   0.000000      0  \n",
       "100043.0    0.000757   0.000052      0  \n",
       "100052.0    0.031548   0.000000      0  \n",
       "100058.0    0.009260   0.000000      0  \n",
       "100067.0    0.000108   0.000000      0  \n",
       "...              ...        ...    ...  \n",
       "92044.0     0.000893   0.000000      0  \n",
       "92056.0     0.005203   0.000000      0  \n",
       "99011.0     0.056813   0.000000      0  \n",
       "99061.0     0.025960   0.000000      0  \n",
       "99090.0     0.009308   0.000000      0  \n",
       "\n",
       "[76 rows x 270 columns]"
      ]
     },
     "execution_count": 74,
     "metadata": {},
     "output_type": "execute_result"
    }
   ],
   "source": [
    "modeling_df = pd.read_csv('df2.csv',index_col=0)\n",
    "modeling_df.index = modeling_df.index.astype('str')\n",
    "\n",
    "label_encoder = LabelEncoder()\n",
    "\n",
    "# 범주형 데이터를 숫자로 변환\n",
    "modeling_df['class'] = label_encoder.fit_transform(modeling_df['class'])\n",
    "modeling_df"
   ]
  },
  {
   "cell_type": "code",
   "execution_count": 75,
   "id": "f775b9e7-ca0f-4e6b-865d-1c77acbae7fc",
   "metadata": {},
   "outputs": [
    {
     "data": {
      "text/plain": [
       "class\n",
       "0    56\n",
       "1    20\n",
       "Name: count, dtype: int64"
      ]
     },
     "execution_count": 75,
     "metadata": {},
     "output_type": "execute_result"
    }
   ],
   "source": [
    "modeling_df['class'].value_counts()"
   ]
  },
  {
   "cell_type": "markdown",
   "id": "f2e462e2-816e-472d-88df-752d806ad3de",
   "metadata": {},
   "source": [
    "## model selection"
   ]
  },
  {
   "cell_type": "code",
   "execution_count": 76,
   "id": "ca62ba36-d67f-45a9-b94d-b44f622ba0ee",
   "metadata": {},
   "outputs": [],
   "source": [
    "models = {\n",
    "    'reg' : LogisticRegression(),\n",
    "    'Lasso' : Lasso(),\n",
    "    'Ridge' : Ridge(),\n",
    "    'dt' : DecisionTreeClassifier(random_state=42),\n",
    "    'rf' : RandomForestClassifier(random_state=42)\n",
    "}"
   ]
  },
  {
   "cell_type": "code",
   "execution_count": 77,
   "id": "fc74e84e-ff63-46ec-8930-b9dd7d5e7879",
   "metadata": {},
   "outputs": [],
   "source": [
    "def kfold_model(model,n_splits,X,y):\n",
    "    \n",
    "    kf = StratifiedKFold(n_splits=n_splits)\n",
    "    results = []\n",
    "    for train_index, test_index in kf.split(X,y):\n",
    "        X_train, X_test = X.iloc[train_index], X.iloc[test_index]\n",
    "        y_train, y_test = y[train_index], y[test_index]\n",
    "        # 모델 훈련\n",
    "        model.fit(X_train, y_train)\n",
    "    \n",
    "        y_pred = model.predict(X_test)\n",
    "        y_pred = [1 if i>0.5 else 0 for i in y_pred]\n",
    "        f1 = f1_score(y_test, y_pred)\n",
    "        results.append(f1)\n",
    "    return results"
   ]
  },
  {
   "cell_type": "code",
   "execution_count": 78,
   "id": "41491636-869d-4f83-bd07-b0c383925409",
   "metadata": {},
   "outputs": [
    {
     "name": "stdout",
     "output_type": "stream",
     "text": [
      "reg f1-score avg : 0.0\n",
      "Lasso f1-score avg : 0.0\n",
      "Ridge f1-score avg : 0.0\n",
      "dt f1-score avg : 0.5417604617604617\n",
      "rf f1-score avg : 0.14666666666666667\n"
     ]
    }
   ],
   "source": [
    "# 각 모델 별 f1-score 값 평균\n",
    "# 트리기반 모델이 회귀모델보다 좋은 성능을 보임\n",
    "col = modeling_df.columns[:-1]\n",
    "target = modeling_df.columns[-1]\n",
    "X = modeling_df[col]\n",
    "y = modeling_df[target]\n",
    "avg_results_before = []\n",
    "for n_model,model in models.items():\n",
    "    n_splits = 5\n",
    "    results = kfold_model(model,n_splits,X,y)\n",
    "    avg_results_before.append(np.mean(results))\n",
    "    print(f'{n_model} f1-score avg : {np.mean(results)}')"
   ]
  },
  {
   "cell_type": "code",
   "execution_count": 79,
   "id": "40e0f08c-2e91-4502-b308-e73bf4d07810",
   "metadata": {},
   "outputs": [
    {
     "data": {
      "image/png": "[encoded data removed]",
      "text/plain": [
       "<Figure size 700x400 with 1 Axes>"
      ]
     },
     "metadata": {},
     "output_type": "display_data"
    }
   ],
   "source": [
    "plt.figure(figsize=(7,4))\n",
    "plt.bar(models.keys(),avg_results_before)\n",
    "plt.title(\"Average F1-score for Each Model\")\n",
    "plt.ylabel('f1-score')\n",
    "plt.show()"
   ]
  },
  {
   "cell_type": "markdown",
   "id": "e884a331-3590-4764-936f-315e306b1e21",
   "metadata": {},
   "source": [
    "## preprocessing"
   ]
  },
  {
   "cell_type": "code",
   "execution_count": 80,
   "id": "1040a639-77b4-438f-8090-a284449bd72e",
   "metadata": {},
   "outputs": [],
   "source": [
    "models = {\n",
    "    'dt' : DecisionTreeClassifier(random_state=42),\n",
    "    'rf' : RandomForestClassifier(random_state=42)\n",
    "}"
   ]
  },
  {
   "cell_type": "markdown",
   "id": "ecc644d2-f96c-4bd2-9257-0546eecb5004",
   "metadata": {},
   "source": [
    "### Over sampling"
   ]
  },
  {
   "cell_type": "code",
   "execution_count": 81,
   "id": "c9b55274-fc38-4df3-8bc4-66c734d91ff7",
   "metadata": {},
   "outputs": [
    {
     "data": {
      "text/plain": [
       "class\n",
       "0    56\n",
       "1    56\n",
       "Name: count, dtype: int64"
      ]
     },
     "execution_count": 81,
     "metadata": {},
     "output_type": "execute_result"
    }
   ],
   "source": [
    "# 데이터 불균형 해결을 위해 오버샘플링 \n",
    "\n",
    "col = modeling_df.columns[:-1]\n",
    "target = modeling_df.columns[-1]\n",
    "X = modeling_df[col]\n",
    "y = modeling_df[target]\n",
    "\n",
    "ros = RandomOverSampler(random_state=42)\n",
    "X_resampled, y_resampled = ros.fit_resample(X, y)\n",
    "y_resampled.value_counts()"
   ]
  },
  {
   "cell_type": "code",
   "execution_count": 82,
   "id": "c71e49ad-bbb1-40e2-b740-3b07fe790007",
   "metadata": {},
   "outputs": [
    {
     "name": "stdout",
     "output_type": "stream",
     "text": [
      "dt f1-score avg : 0.9049795615013005\n",
      "rf f1-score avg : 0.9426666666666665\n"
     ]
    }
   ],
   "source": [
    "# 오버샘플링 후 모델 test -> 성능향상 확인\n",
    "avg_results_after = []\n",
    "for n_model,model in models.items():\n",
    "    n_splits = 5\n",
    "    results = kfold_model(model,n_splits,X_resampled,y_resampled)\n",
    "    print(f'{n_model} f1-score avg : {np.mean(results)}')\n",
    "    avg_results_after.append(np.mean(results))    "
   ]
  },
  {
   "cell_type": "code",
   "execution_count": 83,
   "id": "d8bc73e1-0bc0-4b40-a07a-3335e5f9995a",
   "metadata": {},
   "outputs": [
    {
     "data": {
      "image/png": "[encoded data removed]",
      "text/plain": [
       "<Figure size 640x480 with 1 Axes>"
      ]
     },
     "metadata": {},
     "output_type": "display_data"
    }
   ],
   "source": [
    "# 막대 그래프 설정\n",
    "bar_width = 0.2\n",
    "index = np.arange(len(models.keys()))\n",
    "\n",
    "# 막대 그래프 그리기\n",
    "plt.bar(index, avg_results_before[-2:], width = bar_width, label='defalut')\n",
    "plt.bar(index + bar_width, avg_results_after,width = bar_width, label='oversampling')\n",
    "\n",
    "# x축 레이블과 범례 설정\n",
    "plt.xlabel('Models')\n",
    "plt.ylabel('Average F1-score')\n",
    "plt.title('Average F1-score for Each Model')\n",
    "plt.xticks(index + bar_width/2, models.keys())\n",
    "plt.legend()\n",
    "\n",
    "# 그래프 출력\n",
    "plt.show()\n"
   ]
  },
  {
   "cell_type": "markdown",
   "id": "311bc1e2-bc21-4397-8a80-ddc3fd00e8b7",
   "metadata": {},
   "source": [
    "### Feature selection  \n",
    "맨휘트니 검정을 통해 얻었던 41개의 유의미한 변수만을 사용해 예측"
   ]
  },
  {
   "cell_type": "code",
   "execution_count": 84,
   "id": "1be75ac2",
   "metadata": {},
   "outputs": [],
   "source": [
    "import pickle\n",
    "# 피클 파일에서 significant_df 를 불러오기\n",
    "with open('significant_df.pkl', 'rb') as f:\n",
    "    significant_df = pickle.load(f)"
   ]
  },
  {
   "cell_type": "code",
   "execution_count": 85,
   "id": "70e2172b-dd5c-4a7b-9c69-96fa42c73bc1",
   "metadata": {},
   "outputs": [
    {
     "name": "stdout",
     "output_type": "stream",
     "text": [
      "column 개수:  41\n",
      "dt f1-score avg : 0.46333333333333326\n",
      "rf f1-score avg : 0.6133333333333333\n"
     ]
    }
   ],
   "source": [
    "selected_col = significant_df.index\n",
    "target = modeling_df.columns[-1]\n",
    "print('column 개수: ',len(selected_col))\n",
    "X = modeling_df[selected_col]\n",
    "y = modeling_df[target]\n",
    "avg_results_selected = []\n",
    "# 오버샘플링 후 모델 test -> 성능향상 확인\n",
    "for n_model,model in models.items():\n",
    "    n_splits = 5\n",
    "    results = kfold_model(model,n_splits,X,y)\n",
    "    print(f'{n_model} f1-score avg : {np.mean(results)}')\n",
    "    avg_results_selected.append(np.mean(results))    "
   ]
  },
  {
   "cell_type": "code",
   "execution_count": 86,
   "id": "251dca9e-8e1e-4114-b930-a5de421e9d37",
   "metadata": {},
   "outputs": [
    {
     "data": {
      "image/png": "[encoded data removed]",
      "text/plain": [
       "<Figure size 640x480 with 1 Axes>"
      ]
     },
     "metadata": {},
     "output_type": "display_data"
    }
   ],
   "source": [
    "# 막대 그래프 설정\n",
    "bar_width = 0.2\n",
    "index = np.arange(len(models.keys()))\n",
    "\n",
    "# 막대 그래프 그리기\n",
    "plt.bar(index, avg_results_before[-2:], width = bar_width, label='defalut')\n",
    "plt.bar(index + bar_width, avg_results_selected,width = bar_width, label='use selected Col')\n",
    "\n",
    "# x축 레이블과 범례 설정\n",
    "plt.xlabel('Models')\n",
    "plt.ylabel('Average F1-score')\n",
    "plt.title('Average F1-score for Each Model')\n",
    "plt.xticks(index + bar_width/2, models.keys())\n",
    "plt.legend()\n",
    "\n",
    "# 그래프 출력\n",
    "plt.show()\n"
   ]
  },
  {
   "cell_type": "markdown",
   "id": "49bfe8a8-0200-45ba-8a5e-627300e55b2c",
   "metadata": {},
   "source": [
    "## Validation"
   ]
  },
  {
   "cell_type": "code",
   "execution_count": 87,
   "id": "52a0f126-d892-478b-b7ae-113bc646ae79",
   "metadata": {},
   "outputs": [],
   "source": [
    "selected_col = significant_df.index\n",
    "target = modeling_df.columns[-1]\n",
    "\n",
    "X = modeling_df[selected_col]\n",
    "y = modeling_df[target]\n",
    "\n",
    "ros = RandomOverSampler(random_state=42)\n",
    "X_resampled, y_resampled = ros.fit_resample(X, y)\n",
    "\n",
    "X_train, X_test, y_train, y_test = train_test_split(X_resampled, y_resampled, test_size=0.3, random_state=42)"
   ]
  },
  {
   "cell_type": "code",
   "execution_count": 67,
   "id": "45e9a0b8-601e-426e-aa48-4c49ef0957c2",
   "metadata": {},
   "outputs": [],
   "source": [
    "def training(model,X_train,y_train,X_test,y_test):\n",
    "    model.fit(X_train,y_train)\n",
    "    y_pred = model.predict(X_test)\n",
    "    results = f1_score(y_true = y_test,y_pred = y_pred)\n",
    "    return y_pred,results"
   ]
  },
  {
   "cell_type": "code",
   "execution_count": 68,
   "id": "dbf1f7d5-8d17-4b78-acdd-e4f6cc98c462",
   "metadata": {},
   "outputs": [
    {
     "name": "stdout",
     "output_type": "stream",
     "text": [
      "dt f1-score : 0.8\n",
      "rf f1-score : 1.0\n"
     ]
    }
   ],
   "source": [
    "y_preds = []\n",
    "model_results = []\n",
    "fi_list = []\n",
    "for n_model,model in models.items():\n",
    "    y_pred, results = training(model,X_train,y_train,X_test,y_test)\n",
    "    y_preds.append(y_pred)\n",
    "    print(f'{n_model} f1-score : {results}')\n",
    "    model_results.append(results)\n",
    "    fi_list.append(model.feature_importances_)"
   ]
  },
  {
   "cell_type": "code",
   "execution_count": 69,
   "id": "36b5affe-dcbd-40f4-bc30-02915bbd8692",
   "metadata": {},
   "outputs": [
    {
     "name": "stdout",
     "output_type": "stream",
     "text": [
      "              precision    recall  f1-score   support\n",
      "\n",
      "           0       1.00      0.65      0.79        20\n",
      "           1       0.67      1.00      0.80        14\n",
      "\n",
      "    accuracy                           0.79        34\n",
      "   macro avg       0.83      0.82      0.79        34\n",
      "weighted avg       0.86      0.79      0.79        34\n",
      "\n"
     ]
    }
   ],
   "source": [
    "cr = classification_report(y_test, y_preds[0])\n",
    "print(cr)"
   ]
  },
  {
   "cell_type": "code",
   "execution_count": 70,
   "id": "dca2c4e5-2683-4b40-80e8-be181674e3b8",
   "metadata": {},
   "outputs": [
    {
     "name": "stdout",
     "output_type": "stream",
     "text": [
      "              precision    recall  f1-score   support\n",
      "\n",
      "           0       1.00      1.00      1.00        20\n",
      "           1       1.00      1.00      1.00        14\n",
      "\n",
      "    accuracy                           1.00        34\n",
      "   macro avg       1.00      1.00      1.00        34\n",
      "weighted avg       1.00      1.00      1.00        34\n",
      "\n"
     ]
    }
   ],
   "source": [
    "cr = classification_report(y_test, y_preds[1])\n",
    "print(cr)"
   ]
  },
  {
   "cell_type": "markdown",
   "id": "05855857-6b11-45ab-9a96-b57b79f96254",
   "metadata": {},
   "source": [
    "## Feature importance"
   ]
  },
  {
   "cell_type": "code",
   "execution_count": 71,
   "id": "5042b048-d03d-40d0-a4e7-7492d674d7c9",
   "metadata": {},
   "outputs": [],
   "source": [
    "rf_fi = pd.DataFrame(fi_list[1],index = selected_col,columns=['val']).sort_values(by='val',ascending=False)"
   ]
  },
  {
   "cell_type": "code",
   "execution_count": 72,
   "id": "117239d3-cc60-4806-ae8c-95bbcbae965e",
   "metadata": {
    "scrolled": true
   },
   "outputs": [
    {
     "data": {
      "image/png": "[encoded data removed]",
      "text/plain": [
       "<Figure size 640x480 with 1 Axes>"
      ]
     },
     "metadata": {},
     "output_type": "display_data"
    }
   ],
   "source": [
    "rf_fi[:15][::-1].plot(kind='barh')\n",
    "plt.title('Feature Importance')\n",
    "plt.legend('')\n",
    "plt.ylabel('')\n",
    "plt.show()"
   ]
  }
 ],
 "metadata": {
  "kernelspec": {
   "display_name": "Python 3 (ipykernel)",
   "language": "python",
   "name": "python3"
  },
  "language_info": {
   "codemirror_mode": {
    "name": "ipython",
    "version": 3
   },
   "file_extension": ".py",
   "mimetype": "text/x-python",
   "name": "python",
   "nbconvert_exporter": "python",
   "pygments_lexer": "ipython3",
   "version": "3.9.16"
  },
  "toc": {
   "base_numbering": 1,
   "nav_menu": {},
   "number_sections": true,
   "sideBar": true,
   "skip_h1_title": false,
   "title_cell": "Table of Contents",
   "title_sidebar": "Contents",
   "toc_cell": false,
   "toc_position": {},
   "toc_section_display": true,
   "toc_window_display": false
  }
 },
 "nbformat": 4,
 "nbformat_minor": 5
}
